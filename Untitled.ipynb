{
 "cells": [
  {
   "cell_type": "code",
   "execution_count": null,
   "id": "7ad0dfcf-3466-408a-95ba-38172fe7b615",
   "metadata": {},
   "outputs": [],
   "source": [
    "import requests\n",
    "data = {\"area\": 6.50}\n",
    "response = requests.post(\"{}/\".format(\"http://127.0.0.1:5000\"), json =data )\n",
    "print(\"Price should be \"+ str(response.json()))"
   ]
  },
  {
   "cell_type": "code",
   "execution_count": null,
   "id": "95a426ae-1367-45c8-a5ab-af28238d4c91",
   "metadata": {},
   "outputs": [],
   "source": []
  }
 ],
 "metadata": {
  "kernelspec": {
   "display_name": "Python 3 (ipykernel)",
   "language": "python",
   "name": "python3"
  },
  "language_info": {
   "codemirror_mode": {
    "name": "ipython",
    "version": 3
   },
   "file_extension": ".py",
   "mimetype": "text/x-python",
   "name": "python",
   "nbconvert_exporter": "python",
   "pygments_lexer": "ipython3",
   "version": "3.10.7"
  }
 },
 "nbformat": 4,
 "nbformat_minor": 5
}
