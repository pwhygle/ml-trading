{
 "cells": [
  {
   "cell_type": "markdown",
   "id": "4f02b027-e40b-44f0-9e79-aee1f1684507",
   "metadata": {},
   "source": [
    "#### Adapted from: https://machinelearningknowledge.ai/keras-lstm-layer-explained-for-beginners-with-example/"
   ]
  },
  {
   "cell_type": "markdown",
   "id": "0eb87b53-0562-48a4-b94b-24b6574ddfca",
   "metadata": {},
   "source": [
    "# Set the Ticker and Data Point"
   ]
  },
  {
   "cell_type": "code",
   "execution_count": 1,
   "id": "2ca5ca63-8452-4672-aa62-0f4a0483b77c",
   "metadata": {},
   "outputs": [],
   "source": [
    "ticker = \"QQQ\"\n",
    "data_point = \"Open\" \n",
    "training_percent = 70\n",
    "validate_percent = 10\n",
    "time_frame = 60"
   ]
  },
  {
   "cell_type": "markdown",
   "id": "14fba166-42c7-4e3b-a36b-f855e9d298d2",
   "metadata": {},
   "source": [
    "# Import the Libraries"
   ]
  },
  {
   "cell_type": "code",
   "execution_count": 2,
   "id": "0115beaa-cd69-48f7-9f2c-553b9c47f476",
   "metadata": {},
   "outputs": [],
   "source": [
    "import os\n",
    "import numpy as np\n",
    "import pandas as pd\n",
    "import matplotlib.pyplot as plt\n",
    "\n",
    "import numpy as np\n",
    "from keras.datasets import imdb\n",
    "import tensorflow as tf\n",
    "\n",
    "from sklearn.preprocessing import MinMaxScaler\n",
    "from sklearn import metrics\n",
    "from keras.models import Sequential\n",
    "from keras.layers import LSTM\n",
    "from keras.layers import Dense\n",
    "from keras.layers import Dropout\n",
    "from keras.datasets import imdb\n",
    "from sklearn.metrics import mean_squared_error\n",
    "\n",
    "from sklearn import externals\n",
    "#from keras.layers import LSTM, embeddings, dense\n",
    "#from keras.preprocessing.sequence import pad_sequence\n",
    "\n",
    "%matplotlib inline"
   ]
  },
  {
   "cell_type": "markdown",
   "id": "44658201-a076-4c11-9013-82b237659d9e",
   "metadata": {},
   "source": [
    "# Load the Training Dataset\n",
    "### Get the last 'training_start' days of records, and then get the first 'training_end' of those days for training"
   ]
  },
  {
   "cell_type": "code",
   "execution_count": 3,
   "id": "a177bd48-dc80-402c-a10d-6c181488df74",
   "metadata": {},
   "outputs": [
    {
     "name": "stdout",
     "output_type": "stream",
     "text": [
      "train_count: 4169\n",
      "validation_count: 595\n",
      "test_count: 1191\n",
      "dataset_train\n",
      "            Date        Open        High         Low       Close  Adj Close  \\\n",
      "0     1999-03-10   51.125000   51.156250   50.281250   51.062500  44.011364   \n",
      "1     1999-03-11   51.437500   51.734375   50.312500   51.312500  44.226841   \n",
      "2     1999-03-12   51.125000   51.156250   49.656250   50.062500  43.149483   \n",
      "3     1999-03-15   50.437500   51.562500   49.906250   51.500000  44.388458   \n",
      "4     1999-03-16   51.718750   52.156250   51.156250   51.937500  44.765549   \n",
      "...          ...         ...         ...         ...         ...        ...   \n",
      "4164  2015-09-25  104.910004  105.010002  102.279999  102.919998  97.387321   \n",
      "4165  2015-09-28  102.480003  102.550003   99.690002   99.989998  94.614807   \n",
      "4166  2015-09-29  100.239998  101.260002   98.750000   99.470001  94.122772   \n",
      "4167  2015-09-30  100.889999  101.870003  100.500000  101.760002  96.289658   \n",
      "4168  2015-10-01  101.940002  102.230003  100.589996  102.220001  96.724915   \n",
      "\n",
      "        Volume  \n",
      "0      5232000  \n",
      "1      9688600  \n",
      "2      8743600  \n",
      "3      6369000  \n",
      "4      4905800  \n",
      "...        ...  \n",
      "4164  44700000  \n",
      "4165  44077500  \n",
      "4166  49315500  \n",
      "4167  41411400  \n",
      "4168  39339100  \n",
      "\n",
      "[4169 rows x 7 columns]\n",
      "dataset_validate\n",
      "            Date        Open        High         Low       Close   Adj Close  \\\n",
      "4169  2015-10-02  100.800003  104.010002  100.480003  104.010002   98.418709   \n",
      "4170  2015-10-05  104.779999  105.779999  104.550003  105.500000   99.828621   \n",
      "4171  2015-10-06  105.250000  105.599998  104.180000  105.000000   99.355492   \n",
      "4172  2015-10-07  105.660004  105.860001  104.290001  105.629997   99.951614   \n",
      "4173  2015-10-08  105.230003  106.230003  104.209999  106.050003  100.349052   \n",
      "...          ...         ...         ...         ...         ...         ...   \n",
      "4759  2018-02-06  155.809998  162.509995  155.100006  162.309998  157.189545   \n",
      "4760  2018-02-07  161.789993  163.550003  160.199997  160.210007  155.155807   \n",
      "4761  2018-02-08  160.619995  160.800003  153.449997  153.449997  148.609070   \n",
      "4762  2018-02-09  155.619995  157.240005  150.130005  156.100006  151.175476   \n",
      "4763  2018-02-12  157.699997  159.949997  156.460007  158.869995  153.858093   \n",
      "\n",
      "         Volume  \n",
      "4169   59370900  \n",
      "4170   32853500  \n",
      "4171   33051500  \n",
      "4172   37389300  \n",
      "4173   50188900  \n",
      "...         ...  \n",
      "4759  118537900  \n",
      "4760   91028300  \n",
      "4761   94184800  \n",
      "4762  113836600  \n",
      "4763   63050600  \n",
      "\n",
      "[595 rows x 7 columns]\n",
      "dataset_test\n",
      "            Date        Open        High         Low       Close   Adj Close  \\\n",
      "4765  2018-02-14  158.750000  162.929993  158.000000  162.679993  157.547882   \n",
      "4766  2018-02-15  164.139999  165.699997  162.440002  165.699997  160.472595   \n",
      "4767  2018-02-16  165.160004  166.759995  164.679993  164.960007  159.755951   \n",
      "4768  2018-02-20  164.380005  166.679993  164.309998  165.289993  160.075577   \n",
      "4769  2018-02-21  166.100006  167.720001  164.720001  164.820007  159.620392   \n",
      "...          ...         ...         ...         ...         ...         ...   \n",
      "5951  2022-10-31  278.920013  279.760010  275.989990  277.950012  277.950012   \n",
      "5952  2022-11-01  281.500000  282.070007  274.739990  275.109985  275.109985   \n",
      "5953  2022-11-02  275.079987  278.209991  265.609985  265.679993  265.679993   \n",
      "5954  2022-11-03  263.010010  264.500000  260.100006  260.489990  260.489990   \n",
      "5955  2022-11-04  265.529999  266.609985  259.079987  264.679993  264.679993   \n",
      "\n",
      "        Volume  \n",
      "4765  52107400  \n",
      "4766  51633900  \n",
      "4767  62256300  \n",
      "4768  36785600  \n",
      "4769  41161800  \n",
      "...        ...  \n",
      "5951  47742000  \n",
      "5952  45895900  \n",
      "5953  79803100  \n",
      "5954  70038900  \n",
      "5955  78241000  \n",
      "\n",
      "[1191 rows x 7 columns]\n",
      "4169\n",
      "595\n",
      "1191\n",
      "5956\n"
     ]
    }
   ],
   "source": [
    "file = \".\\\\Data\\\\\" + ticker + \".csv\"\n",
    "df = pd.read_csv(file)\n",
    "train_count = int(len(df) * (training_percent/100))\n",
    "print('train_count: ' + str(train_count))\n",
    "\n",
    "validation_count = int(len(df) * (validate_percent/100))\n",
    "print('validation_count: ' + str(validation_count))\n",
    "\n",
    "test_count = int(len(df) * ((100 - training_percent - validate_percent)/100))\n",
    "print('test_count: ' + str(test_count))\n",
    "\n",
    "dataset_train = df.head(train_count)\n",
    "print('dataset_train')\n",
    "print(df.head(train_count))\n",
    "\n",
    "dataset_validate = df.head(train_count + validation_count).tail(validation_count)\n",
    "print('dataset_validate')\n",
    "print(df.head(train_count + validation_count).tail(validation_count))\n",
    "\n",
    "dataset_test = df.tail(test_count)\n",
    "print('dataset_test')\n",
    "print(df.tail(test_count))\n",
    "\n",
    "\n",
    "print(len(dataset_train))\n",
    "print(len(dataset_validate))\n",
    "print(len(dataset_test))\n",
    "print(len(df))"
   ]
  },
  {
   "cell_type": "markdown",
   "id": "cdd3467c-3759-4125-b0b8-4de2080c5b2e",
   "metadata": {},
   "source": [
    "## Focus on 'Open' Stock Price Column"
   ]
  },
  {
   "cell_type": "code",
   "execution_count": 4,
   "id": "9cba864d-af08-4023-b311-7de9c9414527",
   "metadata": {},
   "outputs": [
    {
     "name": "stdout",
     "output_type": "stream",
     "text": [
      "(4169, 1)\n"
     ]
    }
   ],
   "source": [
    "training_set = dataset_train.loc[:,data_point:data_point].values\n",
    "\n",
    "print(training_set.shape)"
   ]
  },
  {
   "cell_type": "markdown",
   "id": "653b3279-0306-4148-8188-74f624cb4451",
   "metadata": {
    "tags": []
   },
   "source": [
    "# Feature Scaling\n",
    "To produce the best-optimized results with the models, we are required to scale the data. For this task, we are leveraging scikit-learn library’s minmax scaler for converting the input values between 0 to 1"
   ]
  },
  {
   "cell_type": "code",
   "execution_count": 5,
   "id": "4614ccf0-5dc0-45e2-bc68-9806fb6dc5ee",
   "metadata": {},
   "outputs": [
    {
     "name": "stdout",
     "output_type": "stream",
     "text": [
      "(4169, 1)\n"
     ]
    }
   ],
   "source": [
    "sc = MinMaxScaler(feature_range = (0, 1))\n",
    "training_set_scaled = sc.fit_transform(training_set)\n",
    "print(training_set_scaled.shape)"
   ]
  },
  {
   "cell_type": "markdown",
   "id": "94906e68-0de5-4eea-a6d5-81bc28082c1b",
   "metadata": {},
   "source": [
    "# Creating Data with Timesteps\n",
    "When we are working with LSTM’s, we need to keep the data in a specific format. Once the data is created in the form of 60 timesteps, we can then convert it into a NumPy array. Finally, the data is converted to a 3D dimension array, 'time_frame' number of timeframes, and also one feature at each step"
   ]
  },
  {
   "cell_type": "code",
   "execution_count": 6,
   "id": "1da23e34-03b8-4ab9-a743-4985c3604c34",
   "metadata": {},
   "outputs": [
    {
     "name": "stdout",
     "output_type": "stream",
     "text": [
      "(4109, 60, 1)\n",
      "(4109,)\n"
     ]
    }
   ],
   "source": [
    "X_train = []\n",
    "y_train = []\n",
    "rg = dataset_train.shape[0]\n",
    "for i in range(time_frame, rg):\n",
    "    X_train.append(training_set_scaled[i-time_frame:i, 0])\n",
    "    y_train.append(training_set_scaled[i, 0])\n",
    "    \n",
    "X_train, y_train = np.array(X_train), np.array(y_train)\n",
    "\n",
    "X_train = np.reshape(X_train, (X_train.shape[0], X_train.shape[1], 1))\n",
    "\n",
    "print(X_train.shape)\n",
    "print(y_train.shape)"
   ]
  },
  {
   "cell_type": "markdown",
   "id": "124f9354-79f4-4c9c-9af2-e7fff1aa158e",
   "metadata": {},
   "source": [
    "# Building the LSTM in Keras\n",
    "First, we add the Keras LSTM layer, and following this, we add dropout layers for prevention against overfitting.\n",
    "\n",
    "For the LSTM layer, we add 50 units that represent the dimensionality of outer space. The return_sequences parameter is set to true for returning the last output in output.\n",
    "\n",
    "For adding dropout layers, we specify the percentage of layers that should be dropped. The next step is to add the dense layer. At last, we compile the model with the help of adam optimizer. The error is computed using mean_squared_error.\n",
    "\n",
    "Finally, the model is fit using 100 epochs with a batch size of 32."
   ]
  },
  {
   "cell_type": "code",
   "execution_count": 7,
   "id": "a3e0c305-1a75-4f45-9917-38f1d5ad1652",
   "metadata": {},
   "outputs": [
    {
     "name": "stdout",
     "output_type": "stream",
     "text": [
      "Epoch 1/100\n",
      "129/129 [==============================] - 14s 38ms/step - loss: 0.0096\n",
      "Epoch 2/100\n",
      "129/129 [==============================] - 5s 36ms/step - loss: 0.0030\n",
      "Epoch 3/100\n",
      "129/129 [==============================] - 5s 36ms/step - loss: 0.0025\n",
      "Epoch 4/100\n",
      "129/129 [==============================] - 5s 36ms/step - loss: 0.0026\n",
      "Epoch 5/100\n",
      "129/129 [==============================] - 5s 36ms/step - loss: 0.0021\n",
      "Epoch 6/100\n",
      "129/129 [==============================] - 5s 36ms/step - loss: 0.0022\n",
      "Epoch 7/100\n",
      "129/129 [==============================] - 5s 36ms/step - loss: 0.0021\n",
      "Epoch 8/100\n",
      "129/129 [==============================] - 5s 37ms/step - loss: 0.0017\n",
      "Epoch 9/100\n",
      "129/129 [==============================] - 5s 35ms/step - loss: 0.0016\n",
      "Epoch 10/100\n",
      "129/129 [==============================] - 5s 37ms/step - loss: 0.0017\n",
      "Epoch 11/100\n",
      "129/129 [==============================] - 5s 36ms/step - loss: 0.0016\n",
      "Epoch 12/100\n",
      "129/129 [==============================] - 5s 36ms/step - loss: 0.0014\n",
      "Epoch 13/100\n",
      "129/129 [==============================] - 5s 35ms/step - loss: 0.0015\n",
      "Epoch 14/100\n",
      "129/129 [==============================] - 5s 36ms/step - loss: 0.0013\n",
      "Epoch 15/100\n",
      "129/129 [==============================] - 5s 36ms/step - loss: 0.0015\n",
      "Epoch 16/100\n",
      "129/129 [==============================] - 5s 35ms/step - loss: 0.0013\n",
      "Epoch 17/100\n",
      "129/129 [==============================] - 5s 36ms/step - loss: 0.0013\n",
      "Epoch 18/100\n",
      "129/129 [==============================] - 5s 36ms/step - loss: 0.0013\n",
      "Epoch 19/100\n",
      "129/129 [==============================] - 5s 36ms/step - loss: 0.0011\n",
      "Epoch 20/100\n",
      "129/129 [==============================] - 5s 36ms/step - loss: 0.0012\n",
      "Epoch 21/100\n",
      "129/129 [==============================] - 5s 37ms/step - loss: 0.0011\n",
      "Epoch 22/100\n",
      "129/129 [==============================] - 5s 36ms/step - loss: 0.0011\n",
      "Epoch 23/100\n",
      "129/129 [==============================] - 5s 36ms/step - loss: 0.0010\n",
      "Epoch 24/100\n",
      "129/129 [==============================] - 5s 36ms/step - loss: 0.0011\n",
      "Epoch 25/100\n",
      "129/129 [==============================] - 5s 36ms/step - loss: 9.6759e-04\n",
      "Epoch 26/100\n",
      "129/129 [==============================] - 5s 36ms/step - loss: 0.0010\n",
      "Epoch 27/100\n",
      "129/129 [==============================] - 5s 36ms/step - loss: 0.0010\n",
      "Epoch 28/100\n",
      "129/129 [==============================] - 5s 36ms/step - loss: 0.0010\n",
      "Epoch 29/100\n",
      "129/129 [==============================] - 5s 36ms/step - loss: 9.3159e-04\n",
      "Epoch 30/100\n",
      "129/129 [==============================] - 5s 36ms/step - loss: 8.9182e-04\n",
      "Epoch 31/100\n",
      "129/129 [==============================] - 5s 36ms/step - loss: 0.0010\n",
      "Epoch 32/100\n",
      "129/129 [==============================] - 5s 36ms/step - loss: 9.3169e-04\n",
      "Epoch 33/100\n",
      "129/129 [==============================] - 5s 36ms/step - loss: 8.6639e-04\n",
      "Epoch 34/100\n",
      "129/129 [==============================] - 5s 39ms/step - loss: 8.1871e-04\n",
      "Epoch 35/100\n",
      "129/129 [==============================] - 5s 41ms/step - loss: 8.7234e-04\n",
      "Epoch 36/100\n",
      "129/129 [==============================] - 5s 38ms/step - loss: 9.0048e-04\n",
      "Epoch 37/100\n",
      "129/129 [==============================] - 5s 36ms/step - loss: 8.1815e-04\n",
      "Epoch 38/100\n",
      "129/129 [==============================] - 5s 36ms/step - loss: 8.3334e-04\n",
      "Epoch 39/100\n",
      "129/129 [==============================] - 5s 35ms/step - loss: 8.4137e-04\n",
      "Epoch 40/100\n",
      "129/129 [==============================] - 5s 37ms/step - loss: 9.6997e-04\n",
      "Epoch 41/100\n",
      "129/129 [==============================] - 5s 35ms/step - loss: 8.4362e-04\n",
      "Epoch 42/100\n",
      "129/129 [==============================] - 5s 38ms/step - loss: 8.3925e-04\n",
      "Epoch 43/100\n",
      "129/129 [==============================] - 5s 38ms/step - loss: 8.1103e-04\n",
      "Epoch 44/100\n",
      "129/129 [==============================] - 5s 38ms/step - loss: 7.7950e-04\n",
      "Epoch 45/100\n",
      "129/129 [==============================] - 5s 41ms/step - loss: 8.2042e-04\n",
      "Epoch 46/100\n",
      "129/129 [==============================] - 5s 37ms/step - loss: 7.6333e-04\n",
      "Epoch 47/100\n",
      "129/129 [==============================] - 5s 36ms/step - loss: 7.0956e-04\n",
      "Epoch 48/100\n",
      "129/129 [==============================] - 5s 36ms/step - loss: 7.7748e-04\n",
      "Epoch 49/100\n",
      "129/129 [==============================] - 5s 36ms/step - loss: 7.4943e-04\n",
      "Epoch 50/100\n",
      "129/129 [==============================] - 5s 36ms/step - loss: 7.2585e-04\n",
      "Epoch 51/100\n",
      "129/129 [==============================] - 5s 36ms/step - loss: 8.3171e-04\n",
      "Epoch 52/100\n",
      "129/129 [==============================] - 5s 36ms/step - loss: 7.9690e-04\n",
      "Epoch 53/100\n",
      "129/129 [==============================] - 5s 36ms/step - loss: 7.8966e-04\n",
      "Epoch 54/100\n",
      "129/129 [==============================] - 5s 39ms/step - loss: 8.0963e-04\n",
      "Epoch 55/100\n",
      "129/129 [==============================] - 5s 40ms/step - loss: 7.4940e-04\n",
      "Epoch 56/100\n",
      "129/129 [==============================] - 5s 36ms/step - loss: 7.5523e-04\n",
      "Epoch 57/100\n",
      "129/129 [==============================] - 5s 35ms/step - loss: 8.1562e-04\n",
      "Epoch 58/100\n",
      "129/129 [==============================] - 5s 36ms/step - loss: 7.5290e-04\n",
      "Epoch 59/100\n",
      "129/129 [==============================] - 4s 35ms/step - loss: 7.5281e-04\n",
      "Epoch 60/100\n",
      "129/129 [==============================] - 5s 35ms/step - loss: 7.3671e-04\n",
      "Epoch 61/100\n",
      "129/129 [==============================] - 5s 35ms/step - loss: 7.9288e-04\n",
      "Epoch 62/100\n",
      "129/129 [==============================] - 5s 37ms/step - loss: 6.6251e-04\n",
      "Epoch 63/100\n",
      "129/129 [==============================] - 5s 36ms/step - loss: 7.0242e-04\n",
      "Epoch 64/100\n",
      "129/129 [==============================] - 4s 35ms/step - loss: 6.9138e-04\n",
      "Epoch 65/100\n",
      "129/129 [==============================] - 5s 35ms/step - loss: 6.8608e-04\n",
      "Epoch 66/100\n",
      "129/129 [==============================] - 5s 38ms/step - loss: 6.4041e-04\n",
      "Epoch 67/100\n",
      "129/129 [==============================] - 5s 37ms/step - loss: 8.5545e-04\n",
      "Epoch 68/100\n",
      "129/129 [==============================] - 5s 38ms/step - loss: 6.3793e-04\n",
      "Epoch 69/100\n",
      "129/129 [==============================] - 5s 35ms/step - loss: 6.4000e-04\n",
      "Epoch 70/100\n",
      "129/129 [==============================] - 5s 37ms/step - loss: 7.4431e-04\n",
      "Epoch 71/100\n",
      "129/129 [==============================] - 4s 35ms/step - loss: 6.5645e-04\n",
      "Epoch 72/100\n",
      "129/129 [==============================] - 5s 38ms/step - loss: 6.8646e-04\n",
      "Epoch 73/100\n",
      "129/129 [==============================] - 5s 37ms/step - loss: 6.3321e-04\n",
      "Epoch 74/100\n",
      "129/129 [==============================] - 5s 35ms/step - loss: 6.4092e-04\n",
      "Epoch 75/100\n",
      "129/129 [==============================] - 5s 35ms/step - loss: 6.5922e-04\n",
      "Epoch 76/100\n",
      "129/129 [==============================] - 4s 35ms/step - loss: 7.6162e-04\n",
      "Epoch 77/100\n",
      "129/129 [==============================] - 5s 35ms/step - loss: 7.1402e-04\n",
      "Epoch 78/100\n",
      "129/129 [==============================] - 5s 35ms/step - loss: 7.2089e-04\n",
      "Epoch 79/100\n",
      "129/129 [==============================] - 5s 36ms/step - loss: 6.7793e-04\n",
      "Epoch 80/100\n",
      "129/129 [==============================] - 5s 35ms/step - loss: 6.6981e-04\n",
      "Epoch 81/100\n",
      "129/129 [==============================] - 5s 37ms/step - loss: 6.8455e-04\n",
      "Epoch 82/100\n",
      "129/129 [==============================] - 5s 37ms/step - loss: 6.6673e-04\n",
      "Epoch 83/100\n",
      "129/129 [==============================] - 5s 37ms/step - loss: 6.4610e-04\n",
      "Epoch 84/100\n",
      "129/129 [==============================] - 5s 36ms/step - loss: 6.9289e-04\n",
      "Epoch 85/100\n",
      "129/129 [==============================] - 5s 36ms/step - loss: 6.7256e-04\n",
      "Epoch 86/100\n",
      "129/129 [==============================] - 5s 35ms/step - loss: 7.1428e-04\n",
      "Epoch 87/100\n",
      "129/129 [==============================] - 5s 36ms/step - loss: 6.4845e-04\n",
      "Epoch 88/100\n",
      "129/129 [==============================] - 5s 37ms/step - loss: 6.9295e-04\n",
      "Epoch 89/100\n",
      "129/129 [==============================] - 5s 39ms/step - loss: 6.8257e-04\n",
      "Epoch 90/100\n",
      "129/129 [==============================] - 5s 37ms/step - loss: 6.7079e-04\n",
      "Epoch 91/100\n",
      "129/129 [==============================] - 5s 36ms/step - loss: 6.5684e-04\n",
      "Epoch 92/100\n",
      "129/129 [==============================] - 5s 36ms/step - loss: 6.4296e-04\n",
      "Epoch 93/100\n",
      "129/129 [==============================] - 5s 35ms/step - loss: 7.2479e-04\n",
      "Epoch 94/100\n",
      "129/129 [==============================] - 5s 36ms/step - loss: 6.4759e-04\n",
      "Epoch 95/100\n",
      "129/129 [==============================] - 5s 36ms/step - loss: 6.8373e-04\n",
      "Epoch 96/100\n",
      "129/129 [==============================] - 5s 36ms/step - loss: 6.2094e-04\n",
      "Epoch 97/100\n",
      "129/129 [==============================] - 5s 36ms/step - loss: 6.4695e-04\n",
      "Epoch 98/100\n",
      "129/129 [==============================] - 5s 37ms/step - loss: 6.2059e-04\n",
      "Epoch 99/100\n",
      "129/129 [==============================] - 5s 36ms/step - loss: 6.3322e-04\n",
      "Epoch 100/100\n",
      "129/129 [==============================] - 5s 35ms/step - loss: 6.4769e-04\n"
     ]
    },
    {
     "data": {
      "text/plain": [
       "<keras.callbacks.History at 0x287d0840520>"
      ]
     },
     "execution_count": 7,
     "metadata": {},
     "output_type": "execute_result"
    }
   ],
   "source": [
    "regressor = Sequential()\n",
    "\n",
    "regressor.add(LSTM(units = 64, return_sequences = True, input_shape = (X_train.shape[1], 1)))\n",
    "regressor.add(Dropout(0.25))\n",
    "\n",
    "regressor.add(LSTM(units = 64, return_sequences = True))\n",
    "regressor.add(Dropout(0.25))\n",
    "\n",
    "regressor.add(LSTM(units = 64, return_sequences = True))\n",
    "regressor.add(Dropout(0.25))\n",
    "\n",
    "regressor.add(LSTM(units = 64))\n",
    "regressor.add(Dropout(0.25))\n",
    "\n",
    "regressor.add(Dense(units = 1))\n",
    "\n",
    "regressor.compile(optimizer = 'adam', loss = 'mean_squared_error')\n",
    "#scores = regressor.evaluate(X_test, y_test, verbose=0)\n",
    "#print(\"Accuracy: %.2f%%\" % (scores[1]*100))\n",
    "regressor.fit(X_train, y_train, epochs = 100, batch_size = 32)"
   ]
  },
  {
   "cell_type": "markdown",
   "id": "ab775386-de61-4c57-95e2-801b0f22ff42",
   "metadata": {},
   "source": [
    "# Predicting Future Stock using the Test Set\n",
    "For predicting the stock prices, next the training set and test set should be merged. The timestep is set to time_frame, we also apply MinMaxScaler on the new dataset and lastly, the dataset is reshaped.\n",
    "\n",
    "We are required to use inverse_transform for obtaining the stock prices."
   ]
  },
  {
   "cell_type": "code",
   "execution_count": 8,
   "id": "b7f6b0f7-2e08-47db-b941-171c26a62007",
   "metadata": {
    "tags": []
   },
   "outputs": [
    {
     "name": "stdout",
     "output_type": "stream",
     "text": [
      "38/38 [==============================] - 2s 20ms/step\n",
      "Mean Squared Error: \n",
      "91.23316255154633\n",
      "Mean Absolute Error: \n",
      "90.72447972378058\n"
     ]
    }
   ],
   "source": [
    "real_stock_price = dataset_test.loc[:,data_point:data_point].values\n",
    "\n",
    "dataset_total = pd.concat((dataset_train[data_point], dataset_validate[data_point], dataset_test[data_point]), axis = 0)\n",
    "totLen = len(dataset_total) - len(dataset_test) - time_frame\n",
    "inputs = dataset_total.iloc[totLen:].values\n",
    "\n",
    "inputs = inputs.reshape(-1,1)\n",
    "inputs = sc.transform(inputs)\n",
    "\n",
    "rg = inputs.shape[0]\n",
    "\n",
    "\n",
    "X_test = []\n",
    "y_test = []\n",
    "for i in range(time_frame, rg):\n",
    "    X_test.append(inputs[i-time_frame:i, 0])\n",
    "    y_test.append(inputs[i, 0])\n",
    "    \n",
    "##X_test = tf.keras.preprocessing.sequence.pad_sequences(X_test, maxlen=5000)\n",
    "X_test = np.array(X_test)\n",
    "y_test = np.array(y_test)\n",
    "X_test = np.reshape(X_test, (X_test.shape[0], X_test.shape[1], 1))\n",
    "y_test = np.reshape(y_test, (y_test.shape[0], 1))\n",
    "predicted_stock_price = regressor.predict(X_test)\n",
    "predicted_stock_price = sc.inverse_transform(predicted_stock_price)\n",
    "#print(predicted_stock_price.shape)\n",
    "#print(X_test.shape)\n",
    "\n",
    "rms = mean_squared_error(y_test, predicted_stock_price , squared=False)\n",
    "mae = metrics.mean_absolute_error(y_test, predicted_stock_price)\n",
    "print(\"Mean Squared Error: \")\n",
    "print(rms)\n",
    "print(\"Mean Absolute Error: \")\n",
    "print(mae)"
   ]
  },
  {
   "cell_type": "code",
   "execution_count": 9,
   "id": "d7399e5b-b779-4873-ad0b-11ff8675d900",
   "metadata": {},
   "outputs": [
    {
     "data": {
      "image/png": "[encoded data removed]",
      "text/plain": [
       "<Figure size 640x480 with 1 Axes>"
      ]
     },
     "metadata": {},
     "output_type": "display_data"
    }
   ],
   "source": [
    "plt.plot(real_stock_price, color = 'red', label = ticker + ' Stock Price')\n",
    "plt.plot(predicted_stock_price, color = 'blue', label = 'Predicted ' + ticker + ' Stock Price')\n",
    "plt.title(ticker + ' Stock Price Prediction')\n",
    "plt.xlabel('Time (Days)')\n",
    "plt.ylabel(ticker + ' Stock Price')\n",
    "plt.legend()\n",
    "plt.show()"
   ]
  },
  {
   "cell_type": "code",
   "execution_count": 10,
   "id": "c92801df-7e63-4628-8267-345cffd0c004",
   "metadata": {
    "tags": []
   },
   "outputs": [
    {
     "name": "stdout",
     "output_type": "stream",
     "text": [
      "129/129 [==============================] - 3s 20ms/step\n",
      "Mean Squared Error: \n",
      "68.55071001652983\n",
      "Mean Absolute Error: \n",
      "58.345473357851894\n"
     ]
    }
   ],
   "source": [
    "real_stock_price = dataset_test.loc[:,data_point:data_point].values\n",
    "validation_stock_price = dataset_validate.loc[:,data_point:data_point].values\n",
    "#print(dataset_train.tail())\n",
    "#print(dataset_validate.head())\n",
    "# bring together the training data, the validation data, and the test data\n",
    "#ds = pd.concat((dataset_train, dataset_validate, dataset_test), axis = 0)\n",
    "\n",
    "# get the data_point (e.g. Open) from the data\n",
    "#dataset_total = ds.loc[:,data_point:data_point]\n",
    "#print(len(dataset_total))\n",
    "\n",
    "# get the values from row number 'TOTAL Length' to the end\n",
    "inputs = dataset_train.loc[:,data_point:data_point].values\n",
    "inputs = inputs.reshape(-1,1)\n",
    "inputs = sc.transform(inputs)\n",
    "\n",
    "rg = inputs.shape[0]\n",
    "#print('rg: ' + str(rg))\n",
    "\n",
    "X_test = []\n",
    "y_test = []\n",
    "for i in range(time_frame, rg):\n",
    "    X_test.append(inputs[i-time_frame:i, 0])\n",
    "    #if (i == rg -2):\n",
    "    #    x = sc.inverse_transform(inputs)\n",
    "    #    print(x)\n",
    "        \n",
    "for i in range(0, len(dataset_validate)):\n",
    "    y_test.append(validation_stock_price[i, 0])\n",
    "    \n",
    "\n",
    "##X_test = tf.keras.preprocessing.sequence.pad_sequences(X_test, maxlen=5000)\n",
    "X_test = np.array(X_test)\n",
    "y_test = np.array(y_test)\n",
    "X_test = np.reshape(X_test, (X_test.shape[0], X_test.shape[1], 1))\n",
    "y_test = np.reshape(y_test, (y_test.shape[0], 1))\n",
    "\n",
    "#y_test = sc.transform(y_test)\n",
    "#????how do i fit validation data in here\n",
    "\n",
    "#print(sc.inverse_transform(X_test[1500]))\n",
    "predicted_stock_price = regressor.predict(X_test)\n",
    "predicted_stock_price = sc.inverse_transform(predicted_stock_price)\n",
    "#print(\"Predicted: \")\n",
    "#print(dataset_train.tail(1))\n",
    "#print(str(predicted_stock_price[1]))\n",
    "#print(\"Validation: \")\n",
    "#print(str(y_test[0]))\n",
    "\n",
    "#print(predicted_stock_price.shape)\n",
    "#print(y_test.shape)\n",
    "\n",
    "validate = np.array(predicted_stock_price)\n",
    "validate = np.resize(validate, y_test.shape[0])\n",
    "#print(validate.shape)\n",
    "\n",
    "rms = mean_squared_error(y_test, validate , squared=False)\n",
    "mae = metrics.mean_absolute_error(y_test, validate)\n",
    "print(\"Mean Squared Error: \")\n",
    "print(rms)\n",
    "print(\"Mean Absolute Error: \")\n",
    "print(mae)"
   ]
  },
  {
   "cell_type": "markdown",
   "id": "a45c6b17-dc7d-4a10-b89e-6af4bf5a7740",
   "metadata": {},
   "source": [
    "# Plotting the Results"
   ]
  },
  {
   "cell_type": "code",
   "execution_count": 11,
   "id": "1bda993b-85d1-440b-8deb-37acb756560a",
   "metadata": {},
   "outputs": [
    {
     "data": {
      "image/png": "[encoded data removed]",
      "text/plain": [
       "<Figure size 640x480 with 1 Axes>"
      ]
     },
     "metadata": {},
     "output_type": "display_data"
    }
   ],
   "source": [
    "plt.plot(y_test, color = 'red', label = ticker + ' Stock Price')\n",
    "plt.plot(validate, color = 'blue', label = 'Predicted ' + ticker + ' Stock Price')\n",
    "plt.title(ticker + ' Stock Price Prediction')\n",
    "plt.xlabel('Time (Days)')\n",
    "plt.ylabel(ticker + ' Stock Price')\n",
    "plt.legend()\n",
    "plt.show()"
   ]
  },
  {
   "cell_type": "code",
   "execution_count": 12,
   "id": "abec82c9-6be6-47f3-b7ca-b7606e601521",
   "metadata": {},
   "outputs": [
    {
     "name": "stderr",
     "output_type": "stream",
     "text": [
      "WARNING:absl:Found untraced functions such as lstm_cell_layer_call_fn, lstm_cell_layer_call_and_return_conditional_losses, lstm_cell_1_layer_call_fn, lstm_cell_1_layer_call_and_return_conditional_losses, lstm_cell_2_layer_call_fn while saving (showing 5 of 8). These functions will not be directly callable after loading.\n"
     ]
    },
    {
     "name": "stdout",
     "output_type": "stream",
     "text": [
      "INFO:tensorflow:Assets written to: ram://9363cf92-e649-4ca1-9239-9edd147fcd7b/assets\n"
     ]
    },
    {
     "name": "stderr",
     "output_type": "stream",
     "text": [
      "INFO:tensorflow:Assets written to: ram://9363cf92-e649-4ca1-9239-9edd147fcd7b/assets\n"
     ]
    },
    {
     "data": {
      "text/plain": [
       "['stock_prediction.pkl']"
      ]
     },
     "execution_count": 12,
     "metadata": {},
     "output_type": "execute_result"
    }
   ],
   "source": [
    "import joblib\n",
    "joblib.dump(regressor,\"stock_prediction.pkl\")"
   ]
  },
  {
   "cell_type": "code",
   "execution_count": null,
   "id": "1f624a99-a3f5-40c5-a0b0-d9071f7b427d",
   "metadata": {},
   "outputs": [],
   "source": [
    "## save model\n",
    "save_path = './model.h5'\n",
    "regressor.save(save_path)"
   ]
  },
  {
   "cell_type": "code",
   "execution_count": null,
   "id": "50c48e62-a368-4ee1-a26e-b2eb58d99cbd",
   "metadata": {},
   "outputs": [],
   "source": [
    "import requests\n",
    "data = {\"area\": 6.50}\n",
    "response = requests.post(\"{}/\".format(\"http://127.0.0.1:5000\"), json =data )\n",
    "print(\"Price should be \"+ str(response.json()))"
   ]
  }
 ],
 "metadata": {
  "kernelspec": {
   "display_name": "Python 3 (ipykernel)",
   "language": "python",
   "name": "python3"
  },
  "language_info": {
   "codemirror_mode": {
    "name": "ipython",
    "version": 3
   },
   "file_extension": ".py",
   "mimetype": "text/x-python",
   "name": "python",
   "nbconvert_exporter": "python",
   "pygments_lexer": "ipython3",
   "version": "3.10.7"
  }
 },
 "nbformat": 4,
 "nbformat_minor": 5
}
